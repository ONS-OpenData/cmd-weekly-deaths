{
 "cells": [
  {
   "cell_type": "code",
   "execution_count": null,
   "metadata": {},
   "outputs": [],
   "source": [
    "import WDFunctions as w\n",
    "import glob\n",
    "\n",
    "year_of_data = '2021'\n",
    "\n",
    "location = '*' # path name to directory of files, * for current directory\n",
    "files = glob.glob('*')\n",
    "\n",
    "file = [file for file in files if 'published' in file.lower()][0] #'publishedweek202020.xlsx'\n",
    "tabs = w.loadxlstabs(file)\n",
    "w.WeeklyDeathsByRegion(tabs)\n",
    "w.WeeklyDeathsByAgeSex(tabs)\n",
    "\n",
    "file = [file for file in files if 'lahb' in file] # 'lahbtablesweek20finalcodes.xlsx'\n",
    "if len(file) == 0: \n",
    "    file = [file for file in files if 'la_hb' in file.lower()][0]\n",
    "else: file = file[0]\n",
    "reg_data = w.pd.read_excel(file, sheet_name='Registrations - All data', skiprows=3)\n",
    "occ_data = w.pd.read_excel(file, sheet_name='Occurrences - All data', skiprows=3)\n",
    "w.WeeklyDeathsByLA_HB(reg_data, occ_data, year_of_data)\n",
    "\n",
    "print('Transforms complete!')\n"
   ]
  },
  {
   "cell_type": "code",
   "execution_count": null,
   "metadata": {},
   "outputs": [],
   "source": []
  }
 ],
 "metadata": {
  "kernelspec": {
   "display_name": "Python 3",
   "language": "python",
   "name": "python3"
  },
  "language_info": {
   "codemirror_mode": {
    "name": "ipython",
    "version": 3
   },
   "file_extension": ".py",
   "mimetype": "text/x-python",
   "name": "python",
   "nbconvert_exporter": "python",
   "pygments_lexer": "ipython3",
   "version": "3.7.0"
  }
 },
 "nbformat": 4,
 "nbformat_minor": 4
}
