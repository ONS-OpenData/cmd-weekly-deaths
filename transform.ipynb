{
 "cells": [
  {
   "cell_type": "code",
   "execution_count": null,
   "metadata": {},
   "outputs": [],
   "source": [
    "import WDFunctions as w\n",
    "\n",
    "take_data_from_url = input('''\n",
    "Data will be taken from spreadsheets or downloaded from url.\n",
    "Do you have the spreadsheets available? [Y/N]\n",
    "''')\n",
    "\n",
    "if take_data_from_url.lower() == 'y':\n",
    "    file = 'publishedweek192020.xlsx'\n",
    "    tabs = w.loadxlstabs(file)\n",
    "    w.WeeklyDeathsByRegion(tabs)\n",
    "    w.WeeklyDeathsByAgeSex(tabs)\n",
    "\n",
    "    file = 'lahbtablesweek19.xlsx'\n",
    "    reg_data = w.pd.read_excel(file, sheet_name='Registrations - All data', skiprows=3)\n",
    "    occ_data = w.pd.read_excel(file, sheet_name='Occurrences - All data', skiprows=3)\n",
    "    w.WeeklyDeathsByLA_HB(reg_data, occ_data, '2020')\n",
    "    \n",
    "    print('Transforms complete!')\n",
    "\n",
    "else:\n",
    "    print('Taking data from url download')\n",
    "    \n",
    "    from gssutils import *\n",
    "\n",
    "    # get weekly deaths data from url -> by regions & by sex and age\n",
    "    url = 'https://www.ons.gov.uk/peoplepopulationandcommunity/birthsdeathsandmarriages/deaths/datasets/weeklyprovisionalfiguresondeathsregisteredinenglandandwales'\n",
    "    scraper = Scraper(url)\n",
    "\n",
    "    # get required tabs -> passed to functions\n",
    "    tabs = scraper.distributions[0].as_databaker()\n",
    "\n",
    "    # get weekly deaths data from url -> by local authority & health board\n",
    "    url = 'https://www.ons.gov.uk/peoplepopulationandcommunity/healthandsocialcare/causesofdeath/datasets/deathregistrationsandoccurrencesbylocalauthorityandhealthboard'\n",
    "    scraper = Scraper(url)\n",
    "\n",
    "    # import tabs separately -> registrations & occurrences -> to pass to function\n",
    "    reg_data = scraper.distributions[0].as_pandas(sheet_name='Registrations - All data', skiprows=3)\n",
    "    occ_data = scraper.distributions[0].as_pandas(sheet_name='Occurrences - All data', skiprows=3)\n",
    "\n",
    "    # run functions\n",
    "    w.WeeklyDeathsByRegion(tabs)\n",
    "    w.WeeklyDeathsByAgeSex(tabs)\n",
    "    w.WeeklyDeathsByLA_HB(reg_data, occ_data, '2020')\n",
    "    \n",
    "    print('Transforms complete!')"
   ]
  }
 ],
 "metadata": {
  "kernelspec": {
   "display_name": "Python 3",
   "language": "python",
   "name": "python3"
  },
  "language_info": {
   "codemirror_mode": {
    "name": "ipython",
    "version": 3
   },
   "file_extension": ".py",
   "mimetype": "text/x-python",
   "name": "python",
   "nbconvert_exporter": "python",
   "pygments_lexer": "ipython3",
   "version": "3.7.0"
  }
 },
 "nbformat": 4,
 "nbformat_minor": 4
}
