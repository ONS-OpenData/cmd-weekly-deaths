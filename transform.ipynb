{
 "cells": [
  {
   "cell_type": "code",
   "execution_count": null,
   "metadata": {},
   "outputs": [],
   "source": [
    "import WDFunctions as w\n",
    "import glob\n",
    "from api_pipeline import Multi_Upload_To_Cmd\n",
    "\n",
    "credentials = 'florence-details.json'\n",
    "\n",
    "year_of_data = '2021'\n",
    "\n",
    "location = 'weekly-deaths/*' # path name to directory of files, * for current directory\n",
    "files = glob.glob('*')\n",
    "\n",
    "file = [file for file in files if 'published' in file.lower()][0] #'publishedweek202020.xlsx'\n",
    "tabs = w.loadxlstabs(file)\n",
    "w.WeeklyDeathsByRegion(tabs)\n",
    "w.WeeklyDeathsByAgeSex(tabs)\n",
    "\n",
    "file = [file for file in files if 'lahb' in file] # 'lahbtablesweek20finalcodes.xlsx'\n",
    "if len(file) == 0: \n",
    "    file = [file for file in files if 'la_hb' in file.lower()][0]\n",
    "else: file = file[0]\n",
    "reg_data = w.pd.read_excel(file, sheet_name='Registrations - All data', skiprows=3)\n",
    "occ_data = w.pd.read_excel(file, sheet_name='Occurrences - All data', skiprows=3)\n",
    "w.WeeklyDeathsByLA_HB(reg_data, occ_data, year_of_data)\n",
    "\n",
    "print('Transforms complete!')\n",
    "\n",
    "# required info for cmd upload\n",
    "upload_dict = {\n",
    "        'weekly-deaths-health-board':{\n",
    "                'v4':'D:/v4-weekly-deaths-health-board-{}.csv'.format(year_of_data),\n",
    "                'edition':year_of_data,\n",
    "                'collection_name':'CMD weekly deaths by health board',\n",
    "                'metadata_file':'weekly-deaths/weekly-deaths-health-board-2021-v26.csv-metadata.json'\n",
    "                },\n",
    "        'weekly-deaths-region':{\n",
    "                'v4':'D:/v4-weekly-deaths-regional.csv',\n",
    "                'edition':'covid-19',\n",
    "                'collection_name':'CMD weekly deaths by region',\n",
    "                'metadata_file':'weekly-deaths/weekly-deaths-region-covid-19-v39.csv-metadata.json'\n",
    "                },\n",
    "        'weekly-deaths-age-sex':{\n",
    "                'v4':'D:/v4-weekly-deaths-age-sex.csv',\n",
    "                'edition':'covid-19',\n",
    "                'collection_name':'CMD weekly deaths by age and sex',\n",
    "                'metadata_file':'weekly-deaths/weekly-deaths-age-sex-covid-19-v39.csv-metadata.json'\n",
    "                },\n",
    "        'weekly-deaths-local-authority':{\n",
    "                'v4':'D:/v4-weekly-deaths-local-authority-{}.csv'.format(year_of_data),\n",
    "                'edition':year_of_data,\n",
    "                'collection_name':'CMD weekly deaths by local authority',\n",
    "                'metadata_file':'weekly-deaths/weekly-deaths-local-authority-2021-v26.csv-metadata.json'\n",
    "                }\n",
    "        }\n",
    "\n",
    "Multi_Upload_To_Cmd(credentials, upload_dict)"
   ]
  },
  {
   "cell_type": "code",
   "execution_count": null,
   "metadata": {},
   "outputs": [],
   "source": []
  }
 ],
 "metadata": {
  "kernelspec": {
   "display_name": "Python 3",
   "language": "python",
   "name": "python3"
  },
  "language_info": {
   "codemirror_mode": {
    "name": "ipython",
    "version": 3
   },
   "file_extension": ".py",
   "mimetype": "text/x-python",
   "name": "python",
   "nbconvert_exporter": "python",
   "pygments_lexer": "ipython3",
   "version": "3.7.0"
  }
 },
 "nbformat": 4,
 "nbformat_minor": 4
}
