{
 "cells": [
  {
   "cell_type": "code",
   "execution_count": 1,
   "metadata": {},
   "outputs": [
    {
     "name": "stderr",
     "output_type": "stream",
     "text": [
      "/Users/jamesbryant/.pyenv/versions/3.7.0/lib/python3.7/site-packages/pandas/compat/__init__.py:85: UserWarning: Could not import the lzma module. Your installed Python is incomplete. Attempting to use lzma compression will result in a RuntimeError.\n",
      "  warnings.warn(msg)\n"
     ]
    }
   ],
   "source": [
    "from gssutils import *\n",
    "\n",
    "# get weekly deaths data from url -> by regions & by sex and age\n",
    "url = 'https://www.ons.gov.uk/peoplepopulationandcommunity/birthsdeathsandmarriages/deaths/datasets/weeklyprovisionalfiguresondeathsregisteredinenglandandwales'\n",
    "scraper = Scraper(url)\n",
    "\n",
    "# get required tabs -> passed to functions\n",
    "tabs = scraper.distributions[0].as_databaker()\n",
    "tabs = [tab for tab in tabs if 'Weekly' in tab.name]\n",
    "tabs = [tab for tab in tabs if 'UK' not in tab.name]\n",
    "\n",
    "# get weekly deaths data from url -> by local authority & health board\n",
    "url = 'https://www.ons.gov.uk/peoplepopulationandcommunity/healthandsocialcare/causesofdeath/datasets/deathregistrationsandoccurrencesbylocalauthorityandhealthboard'\n",
    "scraper = Scraper(url)\n",
    "\n",
    "# import tabs separately -> registrations & occurrences -> to pass to function\n",
    "reg_data = scraper.distributions[0].as_pandas(sheet_name='Registrations - All data', skiprows=3)\n",
    "occ_data = scraper.distributions[0].as_pandas(sheet_name='Occurrences - All data', skiprows=3)"
   ]
  },
  {
   "cell_type": "code",
   "execution_count": null,
   "metadata": {},
   "outputs": [],
   "source": [
    "# run functions\n",
    "import WDFunctions as w\n",
    "w.WeeklyDeathsByRegion(tabs)\n",
    "w.WeeklyDeathsByAgeSex(tabs)\n",
    "w.WeeklyDeathsByLA_HB(reg_data, occ_data, '2020')"
   ]
  }
 ],
 "metadata": {
  "kernelspec": {
   "display_name": "Python 3",
   "language": "python",
   "name": "python3"
  },
  "language_info": {
   "codemirror_mode": {
    "name": "ipython",
    "version": 3
   },
   "file_extension": ".py",
   "mimetype": "text/x-python",
   "name": "python",
   "nbconvert_exporter": "python",
   "pygments_lexer": "ipython3",
   "version": "3.7.0"
  }
 },
 "nbformat": 4,
 "nbformat_minor": 4
}
