{
 "cells": [
  {
   "cell_type": "code",
   "execution_count": 1,
   "metadata": {},
   "outputs": [
    {
     "name": "stderr",
     "output_type": "stream",
     "text": [
      "/Users/jamesbryant/.pyenv/versions/3.7.0/lib/python3.7/site-packages/pandas/compat/__init__.py:85: UserWarning: Could not import the lzma module. Your installed Python is incomplete. Attempting to use lzma compression will result in a RuntimeError.\n",
      "  warnings.warn(msg)\n"
     ]
    },
    {
     "name": "stdout",
     "output_type": "stream",
     "text": [
      "Loading publishedweek06202122022021175551.xlsx which has size 444122 bytes\n",
      "Table names: ['Analysis', 'Contents', 'Information', 'Terms and conditions', 'Weekly figures 2021', 'Covid-19 - Weekly registrations', 'Weekly figures by cause', 'Covid-19 - Daily registrations', 'Covid-19 - Weekly occurrences', 'UK - Covid-19 - Weekly reg', 'Covid-19 - Daily occurrences', 'Covid-19 - Place of occurrence ', 'Estimated total deaths 2021', 'Related publications']\n",
      "TIMEUNIT=''\n",
      "TIMEUNIT=''\n",
      "TIMEUNIT=''\n",
      "Extracting data structured as v4.\n",
      "region is ok\n",
      "SparsityFiller took 0:00:00.053220\n",
      "TIMEUNIT=''\n",
      "TIMEUNIT=''\n",
      "TIMEUNIT=''\n",
      "Extracting data structured as v4.\n",
      "age-sex is ok\n",
      "SparsityFiller took 0:00:00.273711\n",
      "health-board is ok\n",
      "local-authority is ok\n",
      "Transforms complete!\n"
     ]
    }
   ],
   "source": [
    "import WDFunctions as w\n",
    "import glob\n",
    "\n",
    "year_of_data = '2021'\n",
    "\n",
    "location = '*' # path name to directory of files, * for current directory\n",
    "files = glob.glob('*')\n",
    "\n",
    "file = [file for file in files if 'published' in file.lower()][0] #'publishedweek202020.xlsx'\n",
    "tabs = w.loadxlstabs(file)\n",
    "w.WeeklyDeathsByRegion(tabs)\n",
    "w.WeeklyDeathsByAgeSex(tabs)\n",
    "\n",
    "file = [file for file in files if 'lahb' in file] # 'lahbtablesweek20finalcodes.xlsx'\n",
    "if len(file) == 0: \n",
    "    file = [file for file in files if 'la_hb' in file.lower()][0]\n",
    "else: file = file[0]\n",
    "reg_data = w.pd.read_excel(file, sheet_name='Registrations - All data', skiprows=3)\n",
    "occ_data = w.pd.read_excel(file, sheet_name='Occurrences - All data', skiprows=3)\n",
    "w.WeeklyDeathsByLA_HB(reg_data, occ_data, year_of_data)\n",
    "\n",
    "print('Transforms complete!')\n"
   ]
  },
  {
   "cell_type": "code",
   "execution_count": null,
   "metadata": {},
   "outputs": [],
   "source": []
  }
 ],
 "metadata": {
  "kernelspec": {
   "display_name": "Python 3",
   "language": "python",
   "name": "python3"
  },
  "language_info": {
   "codemirror_mode": {
    "name": "ipython",
    "version": 3
   },
   "file_extension": ".py",
   "mimetype": "text/x-python",
   "name": "python",
   "nbconvert_exporter": "python",
   "pygments_lexer": "ipython3",
   "version": "3.7.0"
  }
 },
 "nbformat": 4,
 "nbformat_minor": 4
}
