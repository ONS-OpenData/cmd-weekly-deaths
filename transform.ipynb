{
 "cells": [
  {
   "cell_type": "code",
   "execution_count": null,
   "metadata": {},
   "outputs": [],
   "source": [
    "import WDFunctions as w\n",
    "import glob\n",
    "\n",
    "credentials = 'florence-details.json'\n",
    "\n",
    "year_of_data = '2021'\n",
    "\n",
    "location = '*' # path name to directory of files, * for current directory\n",
    "files = glob.glob(location)\n",
    "\n",
    "file = [file for file in files if 'published' in file.lower()][0] #'publishedweek202020.xlsx'\n",
    "tabs = w.loadxlstabs(file)\n",
    "w.WeeklyDeathsByRegion(tabs)\n",
    "w.WeeklyDeathsByAgeSex(tabs)\n",
    "\n",
    "file = [file for file in files if 'lahb' in file] # 'lahbtablesweek20finalcodes.xlsx'\n",
    "if len(file) == 0: \n",
    "    file = [file for file in files if 'la_hb' in file.lower()][0]\n",
    "else: file = file[0]\n",
    "reg_data = w.pd.read_excel(file, sheet_name='Registrations - All data', skiprows=3)\n",
    "occ_data = w.pd.read_excel(file, sheet_name='Occurrences - All data', skiprows=3)\n",
    "w.WeeklyDeathsByLA_HB(reg_data, occ_data, year_of_data)\n",
    "\n",
    "print('Transforms complete!')\n",
    "\n"
   ]
  },
  {
   "cell_type": "code",
   "execution_count": null,
   "metadata": {},
   "outputs": [],
   "source": [
    "# don't run this block if only wanting to transform the data\n",
    "from api_pipeline import Multi_Upload_To_Cmd\n",
    "\n",
    "# required info for cmd upload\n",
    "upload_dict = {\n",
    "        'weekly-deaths-health-board':{\n",
    "                'v4':'v4-weekly-deaths-health-board-{}.csv'.format(year_of_data),\n",
    "                'edition':year_of_data,\n",
    "                'collection_name':'CMD weekly deaths by health board',\n",
    "                'metadata_file':w.Get_Latest_Metadata('weekly-deaths-health-board', year_of_data)\n",
    "                },\n",
    "        'weekly-deaths-region':{\n",
    "                'v4':'v4-weekly-deaths-regional.csv',\n",
    "                'edition':'covid-19',\n",
    "                'collection_name':'CMD weekly deaths by region',\n",
    "                'metadata_file':'metadata_file':w.Get_Latest_Metadata('weekly-deaths-region', 'covid-19')\n",
    "                },\n",
    "        'weekly-deaths-age-sex':{\n",
    "                'v4':'v4-weekly-deaths-age-sex.csv',\n",
    "                'edition':'covid-19',\n",
    "                'collection_name':'CMD weekly deaths by age and sex',\n",
    "                'metadata_file':'metadata_file':w.Get_Latest_Metadata('weekly-deaths-age-sex', 'covid-19')\n",
    "                },\n",
    "        'weekly-deaths-local-authority':{\n",
    "                'v4':'v4-weekly-deaths-local-authority-{}.csv'.format(year_of_data),\n",
    "                'edition':year_of_data,\n",
    "                'collection_name':'CMD weekly deaths by local authority',\n",
    "                'metadata_file':'metadata_file':w.Get_Latest_Metadata('weekly-deaths-local-authority', year_of_data)\n",
    "                }\n",
    "        }\n",
    "\n",
    "for dataset in upload_dict:\n",
    "    # check date on v4\n",
    "    v4 = upload_dict[dataset]['v4']\n",
    "    w.Check_v4_Date(v4)\n",
    "    \n",
    "Multi_Upload_To_Cmd(credentials, upload_dict)\n",
    "w.Delete_Metadata_Files(upload_dict)\n"
   ]
  }
 ],
 "metadata": {
  "kernelspec": {
   "display_name": "Python 3",
   "language": "python",
   "name": "python3"
  },
  "language_info": {
   "codemirror_mode": {
    "name": "ipython",
    "version": 3
   },
   "file_extension": ".py",
   "mimetype": "text/x-python",
   "name": "python",
   "nbconvert_exporter": "python",
   "pygments_lexer": "ipython3",
   "version": "3.6.5"
  }
 },
 "nbformat": 4,
 "nbformat_minor": 4
}
